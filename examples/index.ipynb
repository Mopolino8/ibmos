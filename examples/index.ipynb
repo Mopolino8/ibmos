{
 "cells": [
  {
   "cell_type": "markdown",
   "metadata": {},
   "source": [
    "# IBMOS examples"
   ]
  },
  {
   "cell_type": "markdown",
   "metadata": {},
   "source": [
    "This folder contains example Jupyter notebooks that illustrate the usage of IBMOS"
   ]
  },
  {
   "cell_type": "markdown",
   "metadata": {},
   "source": [
    "# Basic"
   ]
  },
  {
   "cell_type": "markdown",
   "metadata": {},
   "source": [
    "[Lid-driven cavity](1-Basic/101-LidDrivenCavity.ipynb)\n",
    "\n",
    "[Couette flow](1-Basic/102-Couette.ipynb)\n",
    "\n",
    "[Impulsive flat plate](1-Basic/103-ImpulsiveFlatPlate.ipynb)\n",
    "\n",
    "[Oscillating flat plate](1-Basic/104-OscillatingFlatPlate.ipynb)\n",
    "\n",
    "[Rotating cylinders](1-Basic/110-RotatingCylinders.ipynb)\n",
    "\n",
    "[Oscillating cylinder](1-Basic/111-OscillatingCylinder.ipynb)\n",
    "\n",
    "[Steady flow around a cylinder ($Re=40$)](1-Basic/120-CylinderRe40.ipynb)\n",
    "\n",
    "[Unsteady flow around a cylinder ($Re=200$)](1-Basic/121-CylinderRe200.ipynb)\n",
    "\n",
    "[Steady flow through a cylinder array ($Re=40$)](1-Basic/130-CylinderArrayRe40.ipynb)\n",
    "\n",
    "[Unsteady flow around a cylinder array ($Re=200$)](1-Basic/131-CylinderArrayRe200.ipynb)"
   ]
  },
  {
   "cell_type": "markdown",
   "metadata": {},
   "source": [
    "# Misc"
   ]
  },
  {
   "cell_type": "markdown",
   "metadata": {},
   "source": [
    "[Direct solvers](9-Misc/91-DirectSolvers.ipynb)\n",
    "\n",
    "[Iterative solvers](9-Misc/92-IterativeSolvers.ipynb)"
   ]
  },
  {
   "cell_type": "code",
   "execution_count": null,
   "metadata": {},
   "outputs": [],
   "source": []
  }
 ],
 "metadata": {
  "kernelspec": {
   "display_name": "Python 3",
   "language": "python",
   "name": "python3"
  },
  "language_info": {
   "codemirror_mode": {
    "name": "ipython",
    "version": 3
   },
   "file_extension": ".py",
   "mimetype": "text/x-python",
   "name": "python",
   "nbconvert_exporter": "python",
   "pygments_lexer": "ipython3",
   "version": "3.6.8"
  }
 },
 "nbformat": 4,
 "nbformat_minor": 2
}

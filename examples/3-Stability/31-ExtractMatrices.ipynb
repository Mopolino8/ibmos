{
 "cells": [
  {
   "cell_type": "markdown",
   "metadata": {},
   "source": [
    "# Extract stability operators"
   ]
  },
  {
   "cell_type": "code",
   "execution_count": 1,
   "metadata": {},
   "outputs": [],
   "source": [
    "%load_ext autoreload\n",
    "%autoreload 2\n",
    "%matplotlib inline\n",
    "%config InlineBackend.figure_format = 'svg'"
   ]
  },
  {
   "cell_type": "code",
   "execution_count": 2,
   "metadata": {
    "collapsed": true
   },
   "outputs": [],
   "source": [
    "import numpy as np\n",
    "import matplotlib.pyplot as plt\n",
    "\n",
    "import sys, os\n",
    "sys.path.append(os.environ[\"PETSC_DIR\"]+'/lib/petsc/bin/')\n",
    "from PetscBinaryIO import PetscBinaryIO"
   ]
  },
  {
   "cell_type": "code",
   "execution_count": 3,
   "metadata": {
    "collapsed": true
   },
   "outputs": [],
   "source": [
    "import case\n",
    "\n",
    "import scipy.linalg as la\n",
    "import scipy.sparse as sp\n",
    "import scipy.sparse.linalg as spla\n",
    "\n",
    "np.set_printoptions(linewidth=130)"
   ]
  },
  {
   "cell_type": "code",
   "execution_count": 4,
   "metadata": {},
   "outputs": [],
   "source": [
    "solver = case.solver()"
   ]
  },
  {
   "cell_type": "code",
   "execution_count": 5,
   "metadata": {},
   "outputs": [
    {
     "name": "stdout",
     "output_type": "stream",
     "text": [
      "   k   residual_x   residual_f    cyl[-]_fx    cyl[-]_fy    cyl[0]_fx    cyl[0]_fy    cyl[+]_fx    cyl[+]_fy \n",
      "   1  5.79989e-01  1.71841e+01  4.38533e+00  8.63622e-01  4.38533e+00  8.63622e-01  4.38533e+00  8.63622e-01 \n",
      "   2  3.94615e-01  2.95182e-01  2.34880e+00  1.02337e+00  2.34880e+00  1.02337e+00  2.34880e+00  1.02337e+00 \n",
      "   3  1.25234e-01  8.32867e-02  2.42449e+00  9.84748e-01  2.42449e+00  9.84748e-01  2.42449e+00  9.84748e-01 \n",
      "   4  4.47184e-02  4.84048e-02  2.42439e+00  1.00209e+00  2.42439e+00  1.00209e+00  2.42439e+00  1.00209e+00 \n",
      "   5  1.35552e-02  6.29178e-03  2.42420e+00  1.00215e+00  2.42420e+00  1.00215e+00  2.42420e+00  1.00215e+00 \n",
      "   6  8.83266e-04  5.58616e-04  2.42420e+00  1.00215e+00  2.42420e+00  1.00215e+00  2.42420e+00  1.00215e+00 \n",
      "   7  1.79048e-06  1.36630e-06  2.42420e+00  1.00215e+00  2.42420e+00  1.00215e+00  2.42420e+00  1.00215e+00 \n",
      "   8  1.06144e-11  7.41403e-12  2.42420e+00  1.00215e+00  2.42420e+00  1.00215e+00  2.42420e+00  1.00215e+00 \n",
      "CPU times: user 7min 43s, sys: 28.6 s, total: 8min 12s\n",
      "Wall time: 44.7 s\n"
     ]
    }
   ],
   "source": [
    "%%time\n",
    "bf, solver = case.base_flow(verbose = True)"
   ]
  },
  {
   "cell_type": "code",
   "execution_count": 6,
   "metadata": {},
   "outputs": [],
   "source": [
    "A, B = (M[0].tocsr() for M in solver.propagator(fractionalStep=False))\n",
    "\n",
    "N = solver.fluid.linearized_advection(*solver.reshape(*solver.unpack(bf))[:2], \n",
    "                                       *case.boundary_conditions(solver)[:2]).tocsr()\n",
    "N = sp.block_diag((N, sp.coo_matrix((A.shape[0] - N.shape[0],)*2)))"
   ]
  },
  {
   "cell_type": "code",
   "execution_count": 7,
   "metadata": {
    "collapsed": true
   },
   "outputs": [],
   "source": [
    "MM = A\n",
    "CC = -B + 1.5*N\n",
    "KK = -0.5*N\n",
    "\n",
    "sU = solver.fluid.u.size//3\n",
    "sV = solver.fluid.v.size//3\n",
    "sP = sV - 1\n",
    "sL = solver.solids[0].l\n",
    "\n",
    "idx1 = np.r_[                                 : sU, \n",
    "             3*sU                             : 3*sU + sV, \n",
    "             3*sU + 3*sV                      : 3*sU + 3*sV + sP,\n",
    "             3*sU + 3*sV + sP + 2*sV          : 3*sU + 3*sV + sP + 2*sV + 2*sL]\n",
    "idx2 = np.r_[sU                                  : 2*sU, \n",
    "             3*sU + sV                           : 3*sU + 2*sV, \n",
    "             3*sU + 3*sV + sP                    : 3*sU + 3*sV + sP + sV,\n",
    "             3*sU + 3*sV + sP + 2*sV + 2*sL        : 3*sU + 3*sV + sP + 2*sV + 4*sL]\n",
    "idx3 = np.r_[2*sU                                  : 3*sU, \n",
    "             3*sU + 2*sV                           : 3*sU + 3*sV, \n",
    "             3*sU + 3*sV + sP + sV                 : 3*sU + 3*sV + sP + 2*sV,\n",
    "             3*sU + 3*sV + sP + 2*sV + 4*sL        : 3*sU + 3*sV + sP + 2*sV + 6*sL]\n",
    "\n",
    "\n",
    "perm = np.r_[idx1, idx2, idx3]\n",
    "P = sp.eye(len(perm)).tocsr()[perm,:]\n",
    "\n",
    "MM = P.dot(MM.dot(P.T))\n",
    "CC = P.dot(CC.dot(P.T))\n",
    "KK = P.dot(KK.dot(P.T))"
   ]
  },
  {
   "cell_type": "code",
   "execution_count": 8,
   "metadata": {
    "collapsed": true
   },
   "outputs": [],
   "source": [
    "IA1 = sp.eye(sU + sV + sP + 2*sL)\n",
    "IA2 = sp.eye(sU + 2*sV + 2*sL)\n",
    "\n",
    "ZA1 = sp.coo_matrix((sU + sV + sP + 2*sL, sU + 2*sV + 2*sL))\n",
    "ZA2 = sp.coo_matrix((sU + 2*sV + 2*sL, sU + 2*sV + 2*sL))\n",
    "\n",
    "S1 = sp.bmat([[IA1, ZA1, ZA1]])\n",
    "S2 = sp.bmat([[ZA1.T, IA2, ZA2]])\n",
    "S3 = sp.bmat([[ZA1.T, ZA2, IA2]])\n",
    "\n",
    "M11 = S1.dot(MM.dot(S1.T))\n",
    "M12 = S1.dot(MM.dot(S2.T))\n",
    "M13 = S1.dot(MM.dot(S3.T))\n",
    "\n",
    "M21 = S2.dot(MM.dot(S1.T))\n",
    "M22 = S2.dot(MM.dot(S2.T))\n",
    "M23 = S2.dot(MM.dot(S3.T))\n",
    "\n",
    "M31 = S3.dot(MM.dot(S1.T))\n",
    "M32 = S3.dot(MM.dot(S2.T))\n",
    "M33 = S3.dot(MM.dot(S3.T))\n",
    "\n",
    "C11 = S1.dot(CC.dot(S1.T))\n",
    "C12 = S1.dot(CC.dot(S2.T))\n",
    "C13 = S1.dot(CC.dot(S3.T))\n",
    "\n",
    "C21 = S2.dot(CC.dot(S1.T))\n",
    "C22 = S2.dot(CC.dot(S2.T))\n",
    "C23 = S2.dot(CC.dot(S3.T))\n",
    "\n",
    "C31 = S3.dot(CC.dot(S1.T))\n",
    "C32 = S3.dot(CC.dot(S2.T))\n",
    "C33 = S3.dot(CC.dot(S3.T))\n",
    "\n",
    "K11 = S1.dot(KK.dot(S1.T))\n",
    "K12 = S1.dot(KK.dot(S2.T))\n",
    "K13 = S1.dot(KK.dot(S3.T))\n",
    "\n",
    "K21 = S2.dot(KK.dot(S1.T))\n",
    "K22 = S2.dot(KK.dot(S2.T))\n",
    "K23 = S2.dot(KK.dot(S3.T))\n",
    "\n",
    "K31 = S3.dot(KK.dot(S1.T))\n",
    "K32 = S3.dot(KK.dot(S2.T))\n",
    "K33 = S3.dot(KK.dot(S3.T))\n",
    "\n",
    "IIn = sp.bmat([[sp.eye(sU + sV), sp.coo_matrix((sU + sV, sV + 2*sL))]])"
   ]
  },
  {
   "cell_type": "code",
   "execution_count": 9,
   "metadata": {},
   "outputs": [
    {
     "name": "stdout",
     "output_type": "stream",
     "text": [
      "5.071135855983985e-13\n",
      "0.0\n"
     ]
    }
   ],
   "source": [
    "print(spla.norm(M22 - M33))\n",
    "print(spla.norm(M23 - M32.T))"
   ]
  },
  {
   "cell_type": "code",
   "execution_count": 10,
   "metadata": {},
   "outputs": [
    {
     "name": "stdout",
     "output_type": "stream",
     "text": [
      "5.659855294416393e-13\n",
      "5.281667799315592\n"
     ]
    }
   ],
   "source": [
    "print(spla.norm(C22 - C33))\n",
    "print(spla.norm(C23 - C32.T))"
   ]
  },
  {
   "cell_type": "code",
   "execution_count": 11,
   "metadata": {},
   "outputs": [
    {
     "name": "stdout",
     "output_type": "stream",
     "text": [
      "1.0249954520475414e-13\n",
      "1.0693200423424283\n"
     ]
    }
   ],
   "source": [
    "print(spla.norm(K22 - K33))\n",
    "print(spla.norm(K23 + K32.T))"
   ]
  },
  {
   "cell_type": "code",
   "execution_count": 12,
   "metadata": {},
   "outputs": [
    {
     "name": "stdout",
     "output_type": "stream",
     "text": [
      "0.0\n"
     ]
    }
   ],
   "source": [
    "Mk = np.zeros(M22.shape[0])\n",
    "Mk[sU+sV: sU+2*sV]=1.0\n",
    "tmp = (M22+M23+M32).dot(Mk)\n",
    "print(la.norm(tmp))"
   ]
  },
  {
   "cell_type": "code",
   "execution_count": 13,
   "metadata": {},
   "outputs": [],
   "source": [
    "!mkdir -p 1-ExtractMatrices"
   ]
  },
  {
   "cell_type": "code",
   "execution_count": 14,
   "metadata": {},
   "outputs": [],
   "source": [
    "dest = '1-ExtractMatrices/'\n",
    "\n",
    "PetscBinaryIO().writeMatSciPy(open(dest+'M1.dat','w'), M22)\n",
    "PetscBinaryIO().writeMatSciPy(open(dest+'M2.dat','w'), M23)\n",
    "PetscBinaryIO().writeMatSciPy(open(dest+'M3.dat','w'), M32)\n",
    "PetscBinaryIO().writeMatSciPy(open(dest+'C1.dat','w'), C22)\n",
    "PetscBinaryIO().writeMatSciPy(open(dest+'C2.dat','w'), C23)\n",
    "PetscBinaryIO().writeMatSciPy(open(dest+'C3.dat','w'), C32)\n",
    "PetscBinaryIO().writeMatSciPy(open(dest+'K1.dat','w'), K22)\n",
    "PetscBinaryIO().writeMatSciPy(open(dest+'K2.dat','w'), K23)\n",
    "PetscBinaryIO().writeMatSciPy(open(dest+'K3.dat','w'), K32)\n",
    "PetscBinaryIO().writeMatSciPy(open(dest+'I.dat','w'), IIn)\n",
    "PetscBinaryIO().writeVec(open(dest+'Mk.dat','w'), Mk)"
   ]
  },
  {
   "cell_type": "code",
   "execution_count": 16,
   "metadata": {},
   "outputs": [],
   "source": [
    "PetscBinaryIO().writeVec(open(dest+'Rh12.dat','w'), np.ones(sU + sV))\n",
    "PetscBinaryIO().writeVec(open(dest+'Mh12.dat','w'), np.ones(sU + sV))"
   ]
  },
  {
   "cell_type": "code",
   "execution_count": 17,
   "metadata": {},
   "outputs": [
    {
     "data": {
      "text/plain": [
       "0.02"
      ]
     },
     "execution_count": 17,
     "metadata": {},
     "output_type": "execute_result"
    }
   ],
   "source": [
    "solver.dt"
   ]
  },
  {
   "cell_type": "code",
   "execution_count": null,
   "metadata": {},
   "outputs": [],
   "source": []
  }
 ],
 "metadata": {
  "anaconda-cloud": {},
  "kernelspec": {
   "display_name": "Python 3",
   "language": "python",
   "name": "python3"
  },
  "language_info": {
   "codemirror_mode": {
    "name": "ipython",
    "version": 3
   },
   "file_extension": ".py",
   "mimetype": "text/x-python",
   "name": "python",
   "nbconvert_exporter": "python",
   "pygments_lexer": "ipython3",
   "version": "3.6.8"
  }
 },
 "nbformat": 4,
 "nbformat_minor": 2
}

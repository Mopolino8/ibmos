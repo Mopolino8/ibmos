{
 "cells": [
  {
   "cell_type": "markdown",
   "metadata": {},
   "source": [
    "# Iterative Solvers"
   ]
  },
  {
   "cell_type": "markdown",
   "metadata": {},
   "source": [
    "The purpose of this notebook is to compare commonly available iterative solvers from python. In this notebook we will try CG with ILU and AMG preconditioning."
   ]
  },
  {
   "cell_type": "code",
   "execution_count": 1,
   "metadata": {},
   "outputs": [],
   "source": [
    "%load_ext autoreload\n",
    "%autoreload 2\n",
    "%matplotlib inline\n",
    "%config InlineBackend.figure_format = 'svg'"
   ]
  },
  {
   "cell_type": "code",
   "execution_count": 2,
   "metadata": {
    "collapsed": true
   },
   "outputs": [],
   "source": [
    "import matplotlib.pyplot as plt\n",
    "import numpy as np\n",
    "import scipy.sparse.linalg as spla\n",
    "\n",
    "import ibmos as ib"
   ]
  },
  {
   "cell_type": "code",
   "execution_count": 3,
   "metadata": {},
   "outputs": [],
   "source": [
    "import scipy.linalg as la"
   ]
  },
  {
   "cell_type": "markdown",
   "metadata": {},
   "source": [
    "# Case initialization\n",
    "... from [Unsteady flow around cylinder (Re=200)](../1-Basic/14-CylinderRe200.ipynb)"
   ]
  },
  {
   "cell_type": "code",
   "execution_count": 4,
   "metadata": {},
   "outputs": [],
   "source": [
    "s1 = ib.stretching(256, 0.033, 0.20, int(0.5/0.033+16), 16, 16, 0.04)\n",
    "s2 = ib.stretching(128, 0.033, 0.20, int(0.5/0.033+16), 16, 16, 0.04)\n",
    "x = np.r_[-s2[::-1], s1[1:]]\n",
    "\n",
    "s = ib.stretching(192, 0.033, 0.20, int(0.5/0.033+16), 16, 16, 0.04)\n",
    "y = np.r_[-s[::-1], s[1:]]\n",
    "\n",
    "solver = ib.Solver(x, y, iRe=1/200, Co=0.015/0.033)\n",
    "del x, y, s1, s2\n",
    "\n",
    "solver.set_solids(ib.shapes.cylinder(\"cylinder\", 0, 0, 0.5, solver.dxmin))\n",
    "\n",
    "uBC, vBC = solver.zero_boundary_conditions()\n",
    "for k in range(4):\n",
    "    uBC[k][:] = 1\n",
    "\n",
    "sBC = ((np.zeros(solver.solids[0].l), np.zeros(solver.solids[0].l)), )\n",
    "\n",
    "u, v, p, *f = solver.reshape(*solver.unpack(solver.zero()))\n",
    "c, r, ϵ = -10, 1.0, 0.01\n",
    "u[:,:] = 1.0-ϵ*solver.fluid.u.y[:,np.newaxis]*np.exp(-((solver.fluid.u.x[np.newaxis,:]-c)**2 + solver.fluid.u.y[:,np.newaxis]**2)/r**2)\n",
    "v[:,:] = ϵ*(solver.fluid.v.x[np.newaxis,:]-c)*np.exp(-((solver.fluid.v.x[np.newaxis,:]-c)**2 + solver.fluid.v.y[:,np.newaxis]**2)/r**2)\n",
    "x0 = solver.pack(u, v, p, f)"
   ]
  },
  {
   "cell_type": "code",
   "execution_count": 5,
   "metadata": {},
   "outputs": [],
   "source": [
    "n = 10"
   ]
  },
  {
   "cell_type": "markdown",
   "metadata": {
    "toc-hr-collapsed": true
   },
   "source": [
    "# Conjugate gradient with ILU preconditioning"
   ]
  },
  {
   "cell_type": "code",
   "execution_count": 6,
   "metadata": {},
   "outputs": [],
   "source": [
    "solver.set_solver(ib.tools.solver_pcg_ilu)"
   ]
  },
  {
   "cell_type": "markdown",
   "metadata": {},
   "source": [
    "## With fractional step method"
   ]
  },
  {
   "cell_type": "code",
   "execution_count": 7,
   "metadata": {},
   "outputs": [],
   "source": [
    "solver.set_fractional_step(True)"
   ]
  },
  {
   "cell_type": "code",
   "execution_count": 8,
   "metadata": {},
   "outputs": [
    {
     "name": "stdout",
     "output_type": "stream",
     "text": [
      "       k            t          x_2       dxdt_2  cylinder_fx  cylinder_fy rel.error(A) rel.error(C) \n",
      "       1  1.50000e-02  1.39397e+03  8.94209e+04  2.32796e+02  1.36951e-04  8.56479e-06  3.19661e-06 \n",
      "CPU times: user 1min 40s, sys: 2.92 s, total: 1min 42s\n",
      "Wall time: 12.4 s\n"
     ]
    }
   ],
   "source": [
    "%time x1, *_ = solver.steps(x0, uBC, vBC, sBC, number=1, checkSolvers=True)"
   ]
  },
  {
   "cell_type": "code",
   "execution_count": 9,
   "metadata": {},
   "outputs": [
    {
     "name": "stdout",
     "output_type": "stream",
     "text": [
      "       k            t          x_2       dxdt_2  cylinder_fx  cylinder_fy rel.error(A) rel.error(C) \n",
      "       1  1.50000e-02  3.94825e+02  8.88276e+04  2.12360e+00  5.47619e-05  8.55968e-06  9.10884e-06 \n",
      "       2  3.00000e-02  3.90542e+02  1.24832e+03  1.98460e+00  1.87335e-05  7.65063e-09  8.24982e-06 \n",
      "       3  4.50000e-02  3.87182e+02  1.21734e+03  1.84205e+00  3.39496e-05  6.80074e-09  5.79607e-06 \n",
      "       4  6.00000e-02  3.85509e+02  7.58487e+02  1.72137e+00  1.93097e-05  6.17337e-09  3.71450e-06 \n",
      "       5  7.50000e-02  3.84971e+02  2.79749e+02  1.62180e+00  4.15206e-05  5.69216e-09  8.39675e-06 \n",
      "       6  9.00000e-02  3.84841e+02  8.26313e+01  1.54095e+00  4.97579e-05  5.29113e-09  8.51065e-06 \n",
      "       7  1.05000e-01  3.84594e+02  1.40943e+02  1.47505e+00  2.49146e-05  4.94732e-09  8.96527e-06 \n",
      "       8  1.20000e-01  3.84155e+02  2.65012e+02  1.41984e+00 -1.10942e-05  4.70866e-09  9.23440e-06 \n",
      "       9  1.35000e-01  3.83747e+02  2.79384e+02  1.37221e+00 -1.61612e-06  4.48183e-09  7.01573e-06 \n",
      "      10  1.50000e-01  3.83597e+02  1.08676e+02  1.33079e+00 -2.79249e-05  4.28830e-09  7.86718e-06 \n",
      "CPU times: user 5min 29s, sys: 8.43 s, total: 5min 38s\n",
      "Wall time: 12.1 s\n"
     ]
    }
   ],
   "source": [
    "%time x, *_ = solver.steps(x1, uBC, vBC, sBC, number=n, checkSolvers=True)"
   ]
  },
  {
   "cell_type": "markdown",
   "metadata": {},
   "source": [
    "# Conjugate gradient with AMG preconditioning"
   ]
  },
  {
   "cell_type": "code",
   "execution_count": 10,
   "metadata": {},
   "outputs": [],
   "source": [
    "solver.set_solver(ib.tools.solver_pcg_amg)"
   ]
  },
  {
   "cell_type": "markdown",
   "metadata": {},
   "source": [
    "## With fractional step method"
   ]
  },
  {
   "cell_type": "code",
   "execution_count": 11,
   "metadata": {},
   "outputs": [],
   "source": [
    "solver.set_fractional_step(True)"
   ]
  },
  {
   "cell_type": "code",
   "execution_count": 12,
   "metadata": {},
   "outputs": [
    {
     "name": "stdout",
     "output_type": "stream",
     "text": [
      "       k            t          x_2       dxdt_2  cylinder_fx  cylinder_fy rel.error(A) rel.error(C) \n",
      "       1  1.50000e-02  1.39365e+03  8.93986e+04  2.32804e+02 -2.13774e-04  6.25158e-09  5.43127e-06 \n",
      "CPU times: user 3min 7s, sys: 4.96 s, total: 3min 12s\n",
      "Wall time: 7.63 s\n"
     ]
    }
   ],
   "source": [
    "%time x1, *_ = solver.steps(x0, uBC, vBC, sBC, number=1, checkSolvers=True)"
   ]
  },
  {
   "cell_type": "code",
   "execution_count": 13,
   "metadata": {},
   "outputs": [
    {
     "name": "stdout",
     "output_type": "stream",
     "text": [
      "       k            t          x_2       dxdt_2  cylinder_fx  cylinder_fy rel.error(A) rel.error(C) \n",
      "       1  1.50000e-02  3.94809e+02  8.88306e+04  2.11840e+00  2.01780e-04  8.29921e-09  6.86713e-06 \n",
      "       2  3.00000e-02  3.90525e+02  1.24727e+03  1.98458e+00 -3.29123e-05  4.90316e-10  7.14006e-06 \n",
      "       3  4.50000e-02  3.87209e+02  1.20003e+03  1.84209e+00  3.72261e-06  3.97435e-10  8.98137e-06 \n",
      "       4  6.00000e-02  3.85515e+02  7.64251e+02  1.72136e+00  3.23033e-05  3.43289e-10  6.57466e-06 \n",
      "       5  7.50000e-02  3.84973e+02  2.80605e+02  1.62183e+00 -2.36822e-05  3.04427e-10  5.41876e-06 \n",
      "       6  9.00000e-02  3.84840e+02  8.37238e+01  1.54097e+00  3.95914e-06  2.76905e-10  8.82681e-06 \n",
      "       7  1.05000e-01  3.84593e+02  1.40875e+02  1.47506e+00 -3.66370e-06  2.53553e-10  6.35729e-06 \n",
      "       8  1.20000e-01  3.84154e+02  2.64532e+02  1.41991e+00  1.03543e-05  2.33640e-10  8.76132e-06 \n",
      "       9  1.35000e-01  3.83768e+02  2.56008e+02  1.37222e+00  8.61080e-06  2.21293e-10  6.92522e-06 \n",
      "      10  1.50000e-01  3.83607e+02  1.14426e+02  1.33083e+00 -2.32119e-07  2.11444e-10  6.48107e-06 \n",
      "CPU times: user 16min 37s, sys: 24.9 s, total: 17min 2s\n",
      "Wall time: 36.6 s\n"
     ]
    }
   ],
   "source": [
    "%time x, *_ = solver.steps(x1, uBC, vBC, sBC, number=n, checkSolvers=True)"
   ]
  },
  {
   "cell_type": "code",
   "execution_count": null,
   "metadata": {},
   "outputs": [],
   "source": []
  }
 ],
 "metadata": {
  "anaconda-cloud": {},
  "kernelspec": {
   "display_name": "Python 3",
   "language": "python",
   "name": "python3"
  },
  "language_info": {
   "codemirror_mode": {
    "name": "ipython",
    "version": 3
   },
   "file_extension": ".py",
   "mimetype": "text/x-python",
   "name": "python",
   "nbconvert_exporter": "python",
   "pygments_lexer": "ipython3",
   "version": "3.6.5"
  }
 },
 "nbformat": 4,
 "nbformat_minor": 2
}
